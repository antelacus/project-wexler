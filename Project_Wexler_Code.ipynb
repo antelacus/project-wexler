{
 "cells": [
  {
   "cell_type": "markdown",
   "id": "88200248-0e64-4ebd-91d3-560e923f4d79",
   "metadata": {},
   "source": [
    "### 3.2.1 EDA"
   ]
  },
  {
   "cell_type": "markdown",
   "id": "8e9b4fc7-08c7-4333-916d-c878b213556b",
   "metadata": {},
   "source": [
    "#### 库和文件导入"
   ]
  },
  {
   "cell_type": "code",
   "execution_count": 1,
   "id": "b3975fe8-6204-470f-9b0d-9f1899f70308",
   "metadata": {},
   "outputs": [],
   "source": [
    "import pandas as pd\n",
    "import numpy as np\n",
    "\n",
    "import datetime \n",
    "import time\n",
    "\n",
    "%matplotlib inline\n",
    "import matplotlib.pyplot as plt \n",
    "import seaborn as sns\n",
    "\n",
    "from sklearn.model_selection import train_test_split\n",
    "from sklearn.linear_model import LogisticRegression\n",
    "from sklearn import metrics"
   ]
  },
  {
   "cell_type": "code",
   "execution_count": 2,
   "id": "4f03a9f0-9881-4bf4-910b-0379fb042e97",
   "metadata": {},
   "outputs": [],
   "source": [
    "events_df = pd.read_csv('events.csv')\n",
    "category_tree_df = pd.read_csv('category_tree.csv')\n",
    "items1 = pd.read_csv('item_properties_part1.csv')\n",
    "items2 = pd.read_csv('item_properties_part2.csv')\n",
    "items_df = pd.concat([items1, items2])"
   ]
  },
  {
   "cell_type": "markdown",
   "id": "9b940a28-3e74-4571-8e9c-179a79c37365",
   "metadata": {},
   "source": [
    "#### 文件内容探索"
   ]
  },
  {
   "cell_type": "code",
   "execution_count": 3,
   "id": "744d0fb5-42d9-43e2-af41-ab241927a86c",
   "metadata": {
    "scrolled": true
   },
   "outputs": [
    {
     "data": {
      "text/html": [
       "<div>\n",
       "<style scoped>\n",
       "    .dataframe tbody tr th:only-of-type {\n",
       "        vertical-align: middle;\n",
       "    }\n",
       "\n",
       "    .dataframe tbody tr th {\n",
       "        vertical-align: top;\n",
       "    }\n",
       "\n",
       "    .dataframe thead th {\n",
       "        text-align: right;\n",
       "    }\n",
       "</style>\n",
       "<table border=\"1\" class=\"dataframe\">\n",
       "  <thead>\n",
       "    <tr style=\"text-align: right;\">\n",
       "      <th></th>\n",
       "      <th>timestamp</th>\n",
       "      <th>itemid</th>\n",
       "      <th>property</th>\n",
       "      <th>value</th>\n",
       "    </tr>\n",
       "  </thead>\n",
       "  <tbody>\n",
       "    <tr>\n",
       "      <th>0</th>\n",
       "      <td>1435460400000</td>\n",
       "      <td>460429</td>\n",
       "      <td>categoryid</td>\n",
       "      <td>1338</td>\n",
       "    </tr>\n",
       "    <tr>\n",
       "      <th>1</th>\n",
       "      <td>1441508400000</td>\n",
       "      <td>206783</td>\n",
       "      <td>888</td>\n",
       "      <td>1116713 960601 n277.200</td>\n",
       "    </tr>\n",
       "    <tr>\n",
       "      <th>2</th>\n",
       "      <td>1439089200000</td>\n",
       "      <td>395014</td>\n",
       "      <td>400</td>\n",
       "      <td>n552.000 639502 n720.000 424566</td>\n",
       "    </tr>\n",
       "    <tr>\n",
       "      <th>3</th>\n",
       "      <td>1431226800000</td>\n",
       "      <td>59481</td>\n",
       "      <td>790</td>\n",
       "      <td>n15360.000</td>\n",
       "    </tr>\n",
       "    <tr>\n",
       "      <th>4</th>\n",
       "      <td>1431831600000</td>\n",
       "      <td>156781</td>\n",
       "      <td>917</td>\n",
       "      <td>828513</td>\n",
       "    </tr>\n",
       "  </tbody>\n",
       "</table>\n",
       "</div>"
      ],
      "text/plain": [
       "       timestamp  itemid    property                            value\n",
       "0  1435460400000  460429  categoryid                             1338\n",
       "1  1441508400000  206783         888          1116713 960601 n277.200\n",
       "2  1439089200000  395014         400  n552.000 639502 n720.000 424566\n",
       "3  1431226800000   59481         790                       n15360.000\n",
       "4  1431831600000  156781         917                           828513"
      ]
     },
     "execution_count": 3,
     "metadata": {},
     "output_type": "execute_result"
    }
   ],
   "source": [
    "items_df.head()"
   ]
  },
  {
   "cell_type": "code",
   "execution_count": 4,
   "id": "a82ec3fd-faee-4fc2-9898-2c368fd024b1",
   "metadata": {},
   "outputs": [
    {
     "data": {
      "text/html": [
       "<div>\n",
       "<style scoped>\n",
       "    .dataframe tbody tr th:only-of-type {\n",
       "        vertical-align: middle;\n",
       "    }\n",
       "\n",
       "    .dataframe tbody tr th {\n",
       "        vertical-align: top;\n",
       "    }\n",
       "\n",
       "    .dataframe thead th {\n",
       "        text-align: right;\n",
       "    }\n",
       "</style>\n",
       "<table border=\"1\" class=\"dataframe\">\n",
       "  <thead>\n",
       "    <tr style=\"text-align: right;\">\n",
       "      <th></th>\n",
       "      <th>timestamp</th>\n",
       "      <th>itemid</th>\n",
       "      <th>property</th>\n",
       "      <th>value</th>\n",
       "    </tr>\n",
       "  </thead>\n",
       "  <tbody>\n",
       "    <tr>\n",
       "      <th>0</th>\n",
       "      <td>2015-06-28 11:00:00</td>\n",
       "      <td>460429</td>\n",
       "      <td>categoryid</td>\n",
       "      <td>1338</td>\n",
       "    </tr>\n",
       "    <tr>\n",
       "      <th>1</th>\n",
       "      <td>2015-09-06 11:00:00</td>\n",
       "      <td>206783</td>\n",
       "      <td>888</td>\n",
       "      <td>1116713 960601 n277.200</td>\n",
       "    </tr>\n",
       "    <tr>\n",
       "      <th>2</th>\n",
       "      <td>2015-08-09 11:00:00</td>\n",
       "      <td>395014</td>\n",
       "      <td>400</td>\n",
       "      <td>n552.000 639502 n720.000 424566</td>\n",
       "    </tr>\n",
       "    <tr>\n",
       "      <th>3</th>\n",
       "      <td>2015-05-10 11:00:00</td>\n",
       "      <td>59481</td>\n",
       "      <td>790</td>\n",
       "      <td>n15360.000</td>\n",
       "    </tr>\n",
       "    <tr>\n",
       "      <th>4</th>\n",
       "      <td>2015-05-17 11:00:00</td>\n",
       "      <td>156781</td>\n",
       "      <td>917</td>\n",
       "      <td>828513</td>\n",
       "    </tr>\n",
       "  </tbody>\n",
       "</table>\n",
       "</div>"
      ],
      "text/plain": [
       "            timestamp  itemid    property                            value\n",
       "0 2015-06-28 11:00:00  460429  categoryid                             1338\n",
       "1 2015-09-06 11:00:00  206783         888          1116713 960601 n277.200\n",
       "2 2015-08-09 11:00:00  395014         400  n552.000 639502 n720.000 424566\n",
       "3 2015-05-10 11:00:00   59481         790                       n15360.000\n",
       "4 2015-05-17 11:00:00  156781         917                           828513"
      ]
     },
     "execution_count": 4,
     "metadata": {},
     "output_type": "execute_result"
    }
   ],
   "source": [
    "times =[]\n",
    "for i in items_df['timestamp']:\n",
    "    times.append(datetime.datetime.fromtimestamp(i//1000.0)) \n",
    "\n",
    "items_df['timestamp'] = times\n",
    "items_df.head()"
   ]
  },
  {
   "cell_type": "markdown",
   "id": "e8706ca6-67db-4044-835c-e9600eb70e72",
   "metadata": {},
   "source": [
    "**timestamp** Unix Epoch格式<br>\r",
    "**itemid** 商品id，独特<br>\n",
    "**propertyid** 商品属性，例如种类、存货数量<br>\n",
    "**value** 对应属性的数量。其中`n`表示后面的价值是数字"
   ]
  },
  {
   "cell_type": "code",
   "execution_count": 5,
   "id": "a85033d6-6982-40d6-9e7c-39d025aaee8b",
   "metadata": {},
   "outputs": [
    {
     "data": {
      "text/html": [
       "<div>\n",
       "<style scoped>\n",
       "    .dataframe tbody tr th:only-of-type {\n",
       "        vertical-align: middle;\n",
       "    }\n",
       "\n",
       "    .dataframe tbody tr th {\n",
       "        vertical-align: top;\n",
       "    }\n",
       "\n",
       "    .dataframe thead th {\n",
       "        text-align: right;\n",
       "    }\n",
       "</style>\n",
       "<table border=\"1\" class=\"dataframe\">\n",
       "  <thead>\n",
       "    <tr style=\"text-align: right;\">\n",
       "      <th></th>\n",
       "      <th>timestamp</th>\n",
       "      <th>visitorid</th>\n",
       "      <th>event</th>\n",
       "      <th>itemid</th>\n",
       "      <th>transactionid</th>\n",
       "    </tr>\n",
       "  </thead>\n",
       "  <tbody>\n",
       "    <tr>\n",
       "      <th>0</th>\n",
       "      <td>1433221332117</td>\n",
       "      <td>257597</td>\n",
       "      <td>view</td>\n",
       "      <td>355908</td>\n",
       "      <td>NaN</td>\n",
       "    </tr>\n",
       "    <tr>\n",
       "      <th>1</th>\n",
       "      <td>1433224214164</td>\n",
       "      <td>992329</td>\n",
       "      <td>view</td>\n",
       "      <td>248676</td>\n",
       "      <td>NaN</td>\n",
       "    </tr>\n",
       "    <tr>\n",
       "      <th>2</th>\n",
       "      <td>1433221999827</td>\n",
       "      <td>111016</td>\n",
       "      <td>view</td>\n",
       "      <td>318965</td>\n",
       "      <td>NaN</td>\n",
       "    </tr>\n",
       "    <tr>\n",
       "      <th>3</th>\n",
       "      <td>1433221955914</td>\n",
       "      <td>483717</td>\n",
       "      <td>view</td>\n",
       "      <td>253185</td>\n",
       "      <td>NaN</td>\n",
       "    </tr>\n",
       "    <tr>\n",
       "      <th>4</th>\n",
       "      <td>1433221337106</td>\n",
       "      <td>951259</td>\n",
       "      <td>view</td>\n",
       "      <td>367447</td>\n",
       "      <td>NaN</td>\n",
       "    </tr>\n",
       "  </tbody>\n",
       "</table>\n",
       "</div>"
      ],
      "text/plain": [
       "       timestamp  visitorid event  itemid  transactionid\n",
       "0  1433221332117     257597  view  355908            NaN\n",
       "1  1433224214164     992329  view  248676            NaN\n",
       "2  1433221999827     111016  view  318965            NaN\n",
       "3  1433221955914     483717  view  253185            NaN\n",
       "4  1433221337106     951259  view  367447            NaN"
      ]
     },
     "execution_count": 5,
     "metadata": {},
     "output_type": "execute_result"
    }
   ],
   "source": [
    "events_df.head()"
   ]
  },
  {
   "cell_type": "code",
   "execution_count": 6,
   "id": "267c5220-f04e-4ce3-8e5a-8700bd42adf2",
   "metadata": {},
   "outputs": [
    {
     "data": {
      "text/html": [
       "<div>\n",
       "<style scoped>\n",
       "    .dataframe tbody tr th:only-of-type {\n",
       "        vertical-align: middle;\n",
       "    }\n",
       "\n",
       "    .dataframe tbody tr th {\n",
       "        vertical-align: top;\n",
       "    }\n",
       "\n",
       "    .dataframe thead th {\n",
       "        text-align: right;\n",
       "    }\n",
       "</style>\n",
       "<table border=\"1\" class=\"dataframe\">\n",
       "  <thead>\n",
       "    <tr style=\"text-align: right;\">\n",
       "      <th></th>\n",
       "      <th>timestamp</th>\n",
       "      <th>visitorid</th>\n",
       "      <th>event</th>\n",
       "      <th>itemid</th>\n",
       "      <th>transactionid</th>\n",
       "    </tr>\n",
       "  </thead>\n",
       "  <tbody>\n",
       "    <tr>\n",
       "      <th>2756096</th>\n",
       "      <td>1438398785939</td>\n",
       "      <td>591435</td>\n",
       "      <td>view</td>\n",
       "      <td>261427</td>\n",
       "      <td>NaN</td>\n",
       "    </tr>\n",
       "    <tr>\n",
       "      <th>2756097</th>\n",
       "      <td>1438399813142</td>\n",
       "      <td>762376</td>\n",
       "      <td>view</td>\n",
       "      <td>115946</td>\n",
       "      <td>NaN</td>\n",
       "    </tr>\n",
       "    <tr>\n",
       "      <th>2756098</th>\n",
       "      <td>1438397820527</td>\n",
       "      <td>1251746</td>\n",
       "      <td>view</td>\n",
       "      <td>78144</td>\n",
       "      <td>NaN</td>\n",
       "    </tr>\n",
       "    <tr>\n",
       "      <th>2756099</th>\n",
       "      <td>1438398530703</td>\n",
       "      <td>1184451</td>\n",
       "      <td>view</td>\n",
       "      <td>283392</td>\n",
       "      <td>NaN</td>\n",
       "    </tr>\n",
       "    <tr>\n",
       "      <th>2756100</th>\n",
       "      <td>1438400163914</td>\n",
       "      <td>199536</td>\n",
       "      <td>view</td>\n",
       "      <td>152913</td>\n",
       "      <td>NaN</td>\n",
       "    </tr>\n",
       "  </tbody>\n",
       "</table>\n",
       "</div>"
      ],
      "text/plain": [
       "             timestamp  visitorid event  itemid  transactionid\n",
       "2756096  1438398785939     591435  view  261427            NaN\n",
       "2756097  1438399813142     762376  view  115946            NaN\n",
       "2756098  1438397820527    1251746  view   78144            NaN\n",
       "2756099  1438398530703    1184451  view  283392            NaN\n",
       "2756100  1438400163914     199536  view  152913            NaN"
      ]
     },
     "execution_count": 6,
     "metadata": {},
     "output_type": "execute_result"
    }
   ],
   "source": [
    "events_df.tail()"
   ]
  },
  {
   "cell_type": "code",
   "execution_count": 7,
   "id": "7c9df248-4653-4a64-a043-4175a36f4470",
   "metadata": {},
   "outputs": [
    {
     "data": {
      "text/plain": [
       "array(['transaction'], dtype=object)"
      ]
     },
     "execution_count": 7,
     "metadata": {},
     "output_type": "execute_result"
    }
   ],
   "source": [
    "events_df[events_df.transactionid.notnull()].event.unique()"
   ]
  },
  {
   "cell_type": "code",
   "execution_count": 8,
   "id": "4eeb41d3-5d30-4a68-a7a6-fdbc1f30150e",
   "metadata": {},
   "outputs": [
    {
     "data": {
      "text/plain": [
       "array(['view', 'addtocart'], dtype=object)"
      ]
     },
     "execution_count": 8,
     "metadata": {},
     "output_type": "execute_result"
    }
   ],
   "source": [
    "events_df[events_df.transactionid.isnull()].event.unique()"
   ]
  },
  {
   "cell_type": "code",
   "execution_count": 9,
   "id": "2d810dca-c9f2-44c3-b882-b93ebb373deb",
   "metadata": {},
   "outputs": [
    {
     "name": "stdout",
     "output_type": "stream",
     "text": [
      "event\n",
      "view           2664312\n",
      "addtocart        69332\n",
      "transaction      22457\n",
      "Name: count, dtype: int64\n"
     ]
    }
   ],
   "source": [
    "print(events_df['event'].value_counts())"
   ]
  },
  {
   "cell_type": "code",
   "execution_count": 10,
   "id": "d8dca87d-175c-4e8b-aa04-911ab4bc8277",
   "metadata": {},
   "outputs": [
    {
     "data": {
      "text/plain": [
       "<Axes: xlabel='event', ylabel='count'>"
      ]
     },
     "execution_count": 10,
     "metadata": {},
     "output_type": "execute_result"
    },
    {
     "data": {
      "image/png": "[encoded data removed]",
      "text/plain": [
       "<Figure size 640x480 with 1 Axes>"
      ]
     },
     "metadata": {},
     "output_type": "display_data"
    }
   ],
   "source": [
    "sns.countplot(x= 'event', data=events_df, palette=\"pastel\")"
   ]
  },
  {
   "cell_type": "code",
   "execution_count": 11,
   "id": "2991d9f7-42d1-410b-a249-fb4b3c73920e",
   "metadata": {},
   "outputs": [
    {
     "data": {
      "image/png": "[encoded data removed]",
      "text/plain": [
       "<Figure size 600x600 with 1 Axes>"
      ]
     },
     "metadata": {},
     "output_type": "display_data"
    }
   ],
   "source": [
    "data = events_df.event.value_counts()\n",
    "labels = data.index\n",
    "sizes = data.values\n",
    "explode = (0, 0.15, 0.15)\n",
    "\n",
    "plt.subplots(figsize=(6,6))\n",
    "plt.pie(sizes, explode=explode, labels=labels,autopct='%1.1f%%', shadow=False, startangle=0)\n",
    "plt.axis('equal')\n",
    "plt.show()"
   ]
  },
  {
   "cell_type": "markdown",
   "id": "d58b3e47-6b0f-483a-91ab-0bcce72f742c",
   "metadata": {},
   "source": [
    "**timestamp** Unix Epoch格式<br>\n",
    "**visitorid** 访问者id，独特<br>\r",
    "**event** 访问者行为，包括“浏览”，“加入购物车”和“交易”<br>\n",
    "**itemid** 商品id，独特<br>\r",
    "**transactionid** 如果访问者交易，则产生"
   ]
  },
  {
   "cell_type": "code",
   "execution_count": 12,
   "id": "ce1c1214-94e6-4ee5-934d-e83da5c9b455",
   "metadata": {},
   "outputs": [
    {
     "data": {
      "text/html": [
       "<div>\n",
       "<style scoped>\n",
       "    .dataframe tbody tr th:only-of-type {\n",
       "        vertical-align: middle;\n",
       "    }\n",
       "\n",
       "    .dataframe tbody tr th {\n",
       "        vertical-align: top;\n",
       "    }\n",
       "\n",
       "    .dataframe thead th {\n",
       "        text-align: right;\n",
       "    }\n",
       "</style>\n",
       "<table border=\"1\" class=\"dataframe\">\n",
       "  <thead>\n",
       "    <tr style=\"text-align: right;\">\n",
       "      <th></th>\n",
       "      <th>categoryid</th>\n",
       "      <th>parentid</th>\n",
       "    </tr>\n",
       "  </thead>\n",
       "  <tbody>\n",
       "    <tr>\n",
       "      <th>0</th>\n",
       "      <td>1016</td>\n",
       "      <td>213.0</td>\n",
       "    </tr>\n",
       "    <tr>\n",
       "      <th>1</th>\n",
       "      <td>809</td>\n",
       "      <td>169.0</td>\n",
       "    </tr>\n",
       "    <tr>\n",
       "      <th>2</th>\n",
       "      <td>570</td>\n",
       "      <td>9.0</td>\n",
       "    </tr>\n",
       "    <tr>\n",
       "      <th>3</th>\n",
       "      <td>1691</td>\n",
       "      <td>885.0</td>\n",
       "    </tr>\n",
       "    <tr>\n",
       "      <th>4</th>\n",
       "      <td>536</td>\n",
       "      <td>1691.0</td>\n",
       "    </tr>\n",
       "  </tbody>\n",
       "</table>\n",
       "</div>"
      ],
      "text/plain": [
       "   categoryid  parentid\n",
       "0        1016     213.0\n",
       "1         809     169.0\n",
       "2         570       9.0\n",
       "3        1691     885.0\n",
       "4         536    1691.0"
      ]
     },
     "execution_count": 12,
     "metadata": {},
     "output_type": "execute_result"
    }
   ],
   "source": [
    "category_tree_df.head()"
   ]
  },
  {
   "cell_type": "code",
   "execution_count": 13,
   "id": "63f4a7d7-f309-4ba3-bf67-df41d390fae5",
   "metadata": {},
   "outputs": [
    {
     "data": {
      "text/html": [
       "<div>\n",
       "<style scoped>\n",
       "    .dataframe tbody tr th:only-of-type {\n",
       "        vertical-align: middle;\n",
       "    }\n",
       "\n",
       "    .dataframe tbody tr th {\n",
       "        vertical-align: top;\n",
       "    }\n",
       "\n",
       "    .dataframe thead th {\n",
       "        text-align: right;\n",
       "    }\n",
       "</style>\n",
       "<table border=\"1\" class=\"dataframe\">\n",
       "  <thead>\n",
       "    <tr style=\"text-align: right;\">\n",
       "      <th></th>\n",
       "      <th>timestamp</th>\n",
       "      <th>itemid</th>\n",
       "      <th>property</th>\n",
       "      <th>value</th>\n",
       "    </tr>\n",
       "  </thead>\n",
       "  <tbody>\n",
       "    <tr>\n",
       "      <th>7236969</th>\n",
       "      <td>2015-05-10 11:00:00</td>\n",
       "      <td>6777</td>\n",
       "      <td>categoryid</td>\n",
       "      <td>1016</td>\n",
       "    </tr>\n",
       "    <tr>\n",
       "      <th>8597591</th>\n",
       "      <td>2015-05-10 11:00:00</td>\n",
       "      <td>161686</td>\n",
       "      <td>categoryid</td>\n",
       "      <td>1016</td>\n",
       "    </tr>\n",
       "    <tr>\n",
       "      <th>9496408</th>\n",
       "      <td>2015-05-10 11:00:00</td>\n",
       "      <td>276491</td>\n",
       "      <td>categoryid</td>\n",
       "      <td>1016</td>\n",
       "    </tr>\n",
       "    <tr>\n",
       "      <th>6880131</th>\n",
       "      <td>2015-05-10 11:00:00</td>\n",
       "      <td>443058</td>\n",
       "      <td>categoryid</td>\n",
       "      <td>1016</td>\n",
       "    </tr>\n",
       "    <tr>\n",
       "      <th>7202531</th>\n",
       "      <td>2015-05-10 11:00:00</td>\n",
       "      <td>462004</td>\n",
       "      <td>categoryid</td>\n",
       "      <td>1016</td>\n",
       "    </tr>\n",
       "  </tbody>\n",
       "</table>\n",
       "</div>"
      ],
      "text/plain": [
       "                  timestamp  itemid    property value\n",
       "7236969 2015-05-10 11:00:00    6777  categoryid  1016\n",
       "8597591 2015-05-10 11:00:00  161686  categoryid  1016\n",
       "9496408 2015-05-10 11:00:00  276491  categoryid  1016\n",
       "6880131 2015-05-10 11:00:00  443058  categoryid  1016\n",
       "7202531 2015-05-10 11:00:00  462004  categoryid  1016"
      ]
     },
     "execution_count": 13,
     "metadata": {},
     "output_type": "execute_result"
    }
   ],
   "source": [
    "items_df.loc[(items_df.property == 'categoryid') & (items_df.value == '1016')].sort_values('timestamp').head()"
   ]
  },
  {
   "cell_type": "markdown",
   "id": "bad8e58c-964d-4b70-aac6-ccf59a7d640d",
   "metadata": {},
   "source": [
    "**categpryid** 子种类<br>\n",
    "**parentid** 母种类"
   ]
  },
  {
   "cell_type": "markdown",
   "id": "b81767cf-4e13-4efb-8632-8116d5cf4a8a",
   "metadata": {},
   "source": [
    "#### 进一步数据探索"
   ]
  },
  {
   "cell_type": "markdown",
   "id": "427a2b74-d95d-4d76-abed-041de442026e",
   "metadata": {},
   "source": [
    "按照客户是否交易，将客户分为两类"
   ]
  },
  {
   "cell_type": "code",
   "execution_count": 14,
   "id": "09d9aeed-61c3-4e5f-bcba-fbd92af97be2",
   "metadata": {},
   "outputs": [
    {
     "name": "stdout",
     "output_type": "stream",
     "text": [
      "Unique visitors: 1407580\n",
      "Total visitors: 2756101\n"
     ]
    }
   ],
   "source": [
    "all_customers = events_df['visitorid'].unique()\n",
    "\n",
    "print(\"Unique visitors:\", all_customers.size)\n",
    "print('Total visitors:', events_df['visitorid'].size)"
   ]
  },
  {
   "cell_type": "markdown",
   "id": "958e8389-d94e-4e25-ad72-96525b9d8213",
   "metadata": {},
   "source": [
    "有交易的客户的数量"
   ]
  },
  {
   "cell_type": "code",
   "execution_count": 15,
   "id": "3f734d63-2be3-46d7-abeb-b48843fffa01",
   "metadata": {},
   "outputs": [
    {
     "data": {
      "text/plain": [
       "11719"
      ]
     },
     "execution_count": 15,
     "metadata": {},
     "output_type": "execute_result"
    }
   ],
   "source": [
    "customer_purchased = events_df[events_df.transactionid.notnull()].visitorid.unique()\n",
    "customer_purchased.size"
   ]
  },
  {
   "cell_type": "code",
   "execution_count": 16,
   "id": "7f79b0a9-36b6-4ed0-b41b-80b207620e87",
   "metadata": {},
   "outputs": [
    {
     "data": {
      "text/plain": [
       "array([ 599528,  121688,  552148,  102019,  189384,  350566,  404403,\n",
       "        505565,  945184, 1406787], dtype=int64)"
      ]
     },
     "execution_count": 16,
     "metadata": {},
     "output_type": "execute_result"
    }
   ],
   "source": [
    "customer_purchased[:10]"
   ]
  },
  {
   "cell_type": "markdown",
   "id": "885314dc-26fd-4d75-a4c9-6c242fe35a16",
   "metadata": {},
   "source": [
    "某客户行为记录示例（“浏览” => “添加至购物车” => “交易”）"
   ]
  },
  {
   "cell_type": "code",
   "execution_count": 17,
   "id": "bcd1d971-d74a-42ab-9564-1abae82aead1",
   "metadata": {},
   "outputs": [
    {
     "data": {
      "text/html": [
       "<div>\n",
       "<style scoped>\n",
       "    .dataframe tbody tr th:only-of-type {\n",
       "        vertical-align: middle;\n",
       "    }\n",
       "\n",
       "    .dataframe tbody tr th {\n",
       "        vertical-align: top;\n",
       "    }\n",
       "\n",
       "    .dataframe thead th {\n",
       "        text-align: right;\n",
       "    }\n",
       "</style>\n",
       "<table border=\"1\" class=\"dataframe\">\n",
       "  <thead>\n",
       "    <tr style=\"text-align: right;\">\n",
       "      <th></th>\n",
       "      <th>timestamp</th>\n",
       "      <th>visitorid</th>\n",
       "      <th>event</th>\n",
       "      <th>itemid</th>\n",
       "      <th>transactionid</th>\n",
       "    </tr>\n",
       "  </thead>\n",
       "  <tbody>\n",
       "    <tr>\n",
       "      <th>19690</th>\n",
       "      <td>1433175714335</td>\n",
       "      <td>102019</td>\n",
       "      <td>view</td>\n",
       "      <td>49521</td>\n",
       "      <td>NaN</td>\n",
       "    </tr>\n",
       "    <tr>\n",
       "      <th>19501</th>\n",
       "      <td>1433175801314</td>\n",
       "      <td>102019</td>\n",
       "      <td>addtocart</td>\n",
       "      <td>49521</td>\n",
       "      <td>NaN</td>\n",
       "    </tr>\n",
       "    <tr>\n",
       "      <th>14842</th>\n",
       "      <td>1433175812596</td>\n",
       "      <td>102019</td>\n",
       "      <td>view</td>\n",
       "      <td>150318</td>\n",
       "      <td>NaN</td>\n",
       "    </tr>\n",
       "    <tr>\n",
       "      <th>19573</th>\n",
       "      <td>1433175871497</td>\n",
       "      <td>102019</td>\n",
       "      <td>view</td>\n",
       "      <td>49521</td>\n",
       "      <td>NaN</td>\n",
       "    </tr>\n",
       "    <tr>\n",
       "      <th>8701</th>\n",
       "      <td>1433175894837</td>\n",
       "      <td>102019</td>\n",
       "      <td>view</td>\n",
       "      <td>49521</td>\n",
       "      <td>NaN</td>\n",
       "    </tr>\n",
       "    <tr>\n",
       "      <th>19708</th>\n",
       "      <td>1433175945872</td>\n",
       "      <td>102019</td>\n",
       "      <td>view</td>\n",
       "      <td>150318</td>\n",
       "      <td>NaN</td>\n",
       "    </tr>\n",
       "    <tr>\n",
       "      <th>8740</th>\n",
       "      <td>1433176042269</td>\n",
       "      <td>102019</td>\n",
       "      <td>view</td>\n",
       "      <td>49521</td>\n",
       "      <td>NaN</td>\n",
       "    </tr>\n",
       "    <tr>\n",
       "      <th>814</th>\n",
       "      <td>1433176736375</td>\n",
       "      <td>102019</td>\n",
       "      <td>transaction</td>\n",
       "      <td>150318</td>\n",
       "      <td>13556.0</td>\n",
       "    </tr>\n",
       "    <tr>\n",
       "      <th>19724</th>\n",
       "      <td>1433176736422</td>\n",
       "      <td>102019</td>\n",
       "      <td>transaction</td>\n",
       "      <td>49521</td>\n",
       "      <td>13556.0</td>\n",
       "    </tr>\n",
       "  </tbody>\n",
       "</table>\n",
       "</div>"
      ],
      "text/plain": [
       "           timestamp  visitorid        event  itemid  transactionid\n",
       "19690  1433175714335     102019         view   49521            NaN\n",
       "19501  1433175801314     102019    addtocart   49521            NaN\n",
       "14842  1433175812596     102019         view  150318            NaN\n",
       "19573  1433175871497     102019         view   49521            NaN\n",
       "8701   1433175894837     102019         view   49521            NaN\n",
       "19708  1433175945872     102019         view  150318            NaN\n",
       "8740   1433176042269     102019         view   49521            NaN\n",
       "814    1433176736375     102019  transaction  150318        13556.0\n",
       "19724  1433176736422     102019  transaction   49521        13556.0"
      ]
     },
     "execution_count": 17,
     "metadata": {},
     "output_type": "execute_result"
    }
   ],
   "source": [
    "events_df[events_df.visitorid == 102019].sort_values('timestamp')"
   ]
  },
  {
   "cell_type": "markdown",
   "id": "bbc5ead6-dc34-4107-874e-d783bac88828",
   "metadata": {},
   "source": [
    "拥有categoryid并记录于property的商品"
   ]
  },
  {
   "cell_type": "code",
   "execution_count": 18,
   "id": "58c8cfc0-f2eb-4a17-984f-3c567f1a71fb",
   "metadata": {},
   "outputs": [
    {
     "name": "stdout",
     "output_type": "stream",
     "text": [
      "items with categoryid and available as property: 9167412\n"
     ]
    },
    {
     "data": {
      "text/html": [
       "<div>\n",
       "<style scoped>\n",
       "    .dataframe tbody tr th:only-of-type {\n",
       "        vertical-align: middle;\n",
       "    }\n",
       "\n",
       "    .dataframe tbody tr th {\n",
       "        vertical-align: top;\n",
       "    }\n",
       "\n",
       "    .dataframe thead th {\n",
       "        text-align: right;\n",
       "    }\n",
       "</style>\n",
       "<table border=\"1\" class=\"dataframe\">\n",
       "  <thead>\n",
       "    <tr style=\"text-align: right;\">\n",
       "      <th></th>\n",
       "      <th>timestamp</th>\n",
       "      <th>itemid</th>\n",
       "      <th>property</th>\n",
       "      <th>value</th>\n",
       "    </tr>\n",
       "  </thead>\n",
       "  <tbody>\n",
       "    <tr>\n",
       "      <th>0</th>\n",
       "      <td>2015-06-28 11:00:00</td>\n",
       "      <td>460429</td>\n",
       "      <td>categoryid</td>\n",
       "      <td>1338</td>\n",
       "    </tr>\n",
       "    <tr>\n",
       "      <th>5</th>\n",
       "      <td>2015-07-05 11:00:00</td>\n",
       "      <td>285026</td>\n",
       "      <td>available</td>\n",
       "      <td>0</td>\n",
       "    </tr>\n",
       "    <tr>\n",
       "      <th>15</th>\n",
       "      <td>2015-07-19 11:00:00</td>\n",
       "      <td>186518</td>\n",
       "      <td>available</td>\n",
       "      <td>0</td>\n",
       "    </tr>\n",
       "    <tr>\n",
       "      <th>79</th>\n",
       "      <td>2015-06-07 11:00:00</td>\n",
       "      <td>423682</td>\n",
       "      <td>available</td>\n",
       "      <td>0</td>\n",
       "    </tr>\n",
       "    <tr>\n",
       "      <th>82</th>\n",
       "      <td>2015-06-14 11:00:00</td>\n",
       "      <td>316253</td>\n",
       "      <td>available</td>\n",
       "      <td>1</td>\n",
       "    </tr>\n",
       "    <tr>\n",
       "      <th>96</th>\n",
       "      <td>2015-07-19 11:00:00</td>\n",
       "      <td>430459</td>\n",
       "      <td>available</td>\n",
       "      <td>0</td>\n",
       "    </tr>\n",
       "    <tr>\n",
       "      <th>101</th>\n",
       "      <td>2015-05-31 11:00:00</td>\n",
       "      <td>411262</td>\n",
       "      <td>available</td>\n",
       "      <td>0</td>\n",
       "    </tr>\n",
       "    <tr>\n",
       "      <th>116</th>\n",
       "      <td>2015-09-06 11:00:00</td>\n",
       "      <td>50372</td>\n",
       "      <td>available</td>\n",
       "      <td>0</td>\n",
       "    </tr>\n",
       "    <tr>\n",
       "      <th>119</th>\n",
       "      <td>2015-09-06 11:00:00</td>\n",
       "      <td>289043</td>\n",
       "      <td>available</td>\n",
       "      <td>0</td>\n",
       "    </tr>\n",
       "    <tr>\n",
       "      <th>133</th>\n",
       "      <td>2015-06-28 11:00:00</td>\n",
       "      <td>365407</td>\n",
       "      <td>available</td>\n",
       "      <td>0</td>\n",
       "    </tr>\n",
       "    <tr>\n",
       "      <th>140</th>\n",
       "      <td>2015-05-24 11:00:00</td>\n",
       "      <td>281245</td>\n",
       "      <td>categoryid</td>\n",
       "      <td>1277</td>\n",
       "    </tr>\n",
       "    <tr>\n",
       "      <th>151</th>\n",
       "      <td>2015-06-28 11:00:00</td>\n",
       "      <td>35575</td>\n",
       "      <td>categoryid</td>\n",
       "      <td>1059</td>\n",
       "    </tr>\n",
       "    <tr>\n",
       "      <th>166</th>\n",
       "      <td>2015-06-07 11:00:00</td>\n",
       "      <td>235243</td>\n",
       "      <td>available</td>\n",
       "      <td>0</td>\n",
       "    </tr>\n",
       "    <tr>\n",
       "      <th>167</th>\n",
       "      <td>2015-06-28 11:00:00</td>\n",
       "      <td>139939</td>\n",
       "      <td>available</td>\n",
       "      <td>1</td>\n",
       "    </tr>\n",
       "    <tr>\n",
       "      <th>179</th>\n",
       "      <td>2015-05-17 11:00:00</td>\n",
       "      <td>268068</td>\n",
       "      <td>available</td>\n",
       "      <td>0</td>\n",
       "    </tr>\n",
       "    <tr>\n",
       "      <th>185</th>\n",
       "      <td>2015-05-10 11:00:00</td>\n",
       "      <td>182614</td>\n",
       "      <td>available</td>\n",
       "      <td>1</td>\n",
       "    </tr>\n",
       "    <tr>\n",
       "      <th>189</th>\n",
       "      <td>2015-07-19 11:00:00</td>\n",
       "      <td>8313</td>\n",
       "      <td>categoryid</td>\n",
       "      <td>1147</td>\n",
       "    </tr>\n",
       "    <tr>\n",
       "      <th>197</th>\n",
       "      <td>2015-07-26 11:00:00</td>\n",
       "      <td>55102</td>\n",
       "      <td>categoryid</td>\n",
       "      <td>47</td>\n",
       "    </tr>\n",
       "    <tr>\n",
       "      <th>212</th>\n",
       "      <td>2015-05-10 11:00:00</td>\n",
       "      <td>289825</td>\n",
       "      <td>available</td>\n",
       "      <td>1</td>\n",
       "    </tr>\n",
       "    <tr>\n",
       "      <th>213</th>\n",
       "      <td>2015-05-31 11:00:00</td>\n",
       "      <td>397079</td>\n",
       "      <td>categoryid</td>\n",
       "      <td>619</td>\n",
       "    </tr>\n",
       "  </tbody>\n",
       "</table>\n",
       "</div>"
      ],
      "text/plain": [
       "              timestamp  itemid    property value\n",
       "0   2015-06-28 11:00:00  460429  categoryid  1338\n",
       "5   2015-07-05 11:00:00  285026   available     0\n",
       "15  2015-07-19 11:00:00  186518   available     0\n",
       "79  2015-06-07 11:00:00  423682   available     0\n",
       "82  2015-06-14 11:00:00  316253   available     1\n",
       "96  2015-07-19 11:00:00  430459   available     0\n",
       "101 2015-05-31 11:00:00  411262   available     0\n",
       "116 2015-09-06 11:00:00   50372   available     0\n",
       "119 2015-09-06 11:00:00  289043   available     0\n",
       "133 2015-06-28 11:00:00  365407   available     0\n",
       "140 2015-05-24 11:00:00  281245  categoryid  1277\n",
       "151 2015-06-28 11:00:00   35575  categoryid  1059\n",
       "166 2015-06-07 11:00:00  235243   available     0\n",
       "167 2015-06-28 11:00:00  139939   available     1\n",
       "179 2015-05-17 11:00:00  268068   available     0\n",
       "185 2015-05-10 11:00:00  182614   available     1\n",
       "189 2015-07-19 11:00:00    8313  categoryid  1147\n",
       "197 2015-07-26 11:00:00   55102  categoryid    47\n",
       "212 2015-05-10 11:00:00  289825   available     1\n",
       "213 2015-05-31 11:00:00  397079  categoryid   619"
      ]
     },
     "execution_count": 18,
     "metadata": {},
     "output_type": "execute_result"
    }
   ],
   "source": [
    "items_new = items_df.loc[items_df.property.isin(['categoryid', 'available']), :]\n",
    "print(\"items with categoryid and available as property:\", items_new.size)\n",
    "items_new.head(20)"
   ]
  },
  {
   "cell_type": "markdown",
   "id": "918ef814-6934-452d-b374-a060327b6085",
   "metadata": {},
   "source": [
    "按照event和itemid汇总"
   ]
  },
  {
   "cell_type": "code",
   "execution_count": 19,
   "id": "054535a5-6f5e-4331-8a6d-53e2f9593899",
   "metadata": {},
   "outputs": [
    {
     "data": {
      "text/plain": [
       "event\n",
       "addtocart      [5206, 10572, 255275, 356475, 312728, 63312, 1...\n",
       "transaction    [356475, 15335, 81345, 150318, 310791, 54058, ...\n",
       "view           [355908, 248676, 318965, 253185, 367447, 22556...\n",
       "Name: itemid, dtype: object"
      ]
     },
     "execution_count": 19,
     "metadata": {},
     "output_type": "execute_result"
    }
   ],
   "source": [
    "grouped = events_df.groupby('event')['itemid'].apply(list)\n",
    "grouped"
   ]
  },
  {
   "cell_type": "markdown",
   "id": "a16b9bef-300d-4f9d-bafd-317b7a7d6b50",
   "metadata": {},
   "source": [
    "哪些商品产生最多“浏览”记录"
   ]
  },
  {
   "cell_type": "code",
   "execution_count": 135,
   "id": "8011a266-a954-41fe-8552-86a300a93ec5",
   "metadata": {},
   "outputs": [
    {
     "data": {
      "text/plain": [
       "<Axes: >"
      ]
     },
     "execution_count": 135,
     "metadata": {},
     "output_type": "execute_result"
    },
    {
     "data": {
      "image/png": "[encoded data removed]",
      "text/plain": [
       "<Figure size 640x480 with 1 Axes>"
      ]
     },
     "metadata": {},
     "output_type": "display_data"
    }
   ],
   "source": [
    "import operator\n",
    "views = grouped['view']\n",
    "count_view ={}\n",
    "\n",
    "views = np.array(views[:])\n",
    "unique, counts = np.unique(views, return_counts=True)\n",
    "count_view = dict(zip(unique, counts))\n",
    "sort_count_view = sorted(count_view.items(), key = operator.itemgetter(1), reverse = True)\n",
    "\n",
    "x = [i[0] for i in sort_count_view[:7]]\n",
    "y = [i[1] for i in sort_count_view[:7]]\n",
    "sns.barplot(x = x, y = y, order=x, palette=\"vlag\")"
   ]
  },
  {
   "cell_type": "markdown",
   "id": "87ec9a33-c2e9-4175-970b-0495b64dd161",
   "metadata": {},
   "source": [
    "哪些商品产生最多“添加至购物车”记录"
   ]
  },
  {
   "cell_type": "code",
   "execution_count": 21,
   "id": "8e07b853-984c-4555-94e1-a8b8769295b5",
   "metadata": {},
   "outputs": [
    {
     "data": {
      "text/plain": [
       "<Axes: >"
      ]
     },
     "execution_count": 21,
     "metadata": {},
     "output_type": "execute_result"
    },
    {
     "data": {
      "image/png": "[encoded data removed]",
      "text/plain": [
       "<Figure size 640x480 with 1 Axes>"
      ]
     },
     "metadata": {},
     "output_type": "display_data"
    }
   ],
   "source": [
    "addtocart = grouped['addtocart']\n",
    "count_addtocart ={}\n",
    "\n",
    "addtocart = np.array(addtocart[:])\n",
    "unique, counts = np.unique(addtocart, return_counts=True)\n",
    "count_addtocart = dict(zip(unique, counts))\n",
    "sort_count_addtocart = sorted(count_addtocart.items(), key = operator.itemgetter(1), reverse = True)\n",
    "\n",
    "x = [i[0] for i in sort_count_addtocart[:7]]\n",
    "y = [i[1] for i in sort_count_addtocart[:7]]\n",
    "sns.barplot(x = x, y = y, order=x, palette=\"vlag\")"
   ]
  },
  {
   "cell_type": "markdown",
   "id": "2091dbcc-87b0-4c9d-b51c-706e3d4ed5ed",
   "metadata": {},
   "source": [
    "哪些商品产生最多“交易”记录"
   ]
  },
  {
   "cell_type": "code",
   "execution_count": 22,
   "id": "1b6c008e-867d-43df-bc84-c0e225294956",
   "metadata": {},
   "outputs": [
    {
     "data": {
      "text/plain": [
       "<Axes: >"
      ]
     },
     "execution_count": 22,
     "metadata": {},
     "output_type": "execute_result"
    },
    {
     "data": {
      "image/png": "[encoded data removed]",
      "text/plain": [
       "<Figure size 640x480 with 1 Axes>"
      ]
     },
     "metadata": {},
     "output_type": "display_data"
    }
   ],
   "source": [
    "transaction = grouped['transaction']\n",
    "count_transaction ={}\n",
    "\n",
    "transaction = np.array(transaction[:])\n",
    "unique, counts = np.unique(transaction, return_counts=True)\n",
    "count_transaction = dict(zip(unique, counts))\n",
    "sort_count_transaction = sorted(count_transaction.items(), key = operator.itemgetter(1), reverse = True)\n",
    "\n",
    "x = [i[0] for i in sort_count_transaction[:7]]\n",
    "y = [i[1] for i in sort_count_transaction[:7]]\n",
    "sns.barplot(x = x, y = y, order=x, palette=\"vlag\")"
   ]
  },
  {
   "cell_type": "markdown",
   "id": "be53374f-eabd-4829-bcd1-0660270f60e0",
   "metadata": {},
   "source": [
    "### 3.2.2 推荐系统构建"
   ]
  },
  {
   "cell_type": "code",
   "execution_count": 23,
   "id": "791fef66-7305-456d-b889-a6ba3c18dda8",
   "metadata": {},
   "outputs": [
    {
     "name": "stderr",
     "output_type": "stream",
     "text": [
      "D:\\anaconda3\\envs\\pandas_learning\\Lib\\site-packages\\lightfm\\_lightfm_fast.py:9: UserWarning: LightFM was compiled without OpenMP support. Only a single thread will be used.\n",
      "  warnings.warn(\n"
     ]
    }
   ],
   "source": [
    "from lightfm import LightFM\n",
    "from lightfm.evaluation import auc_score\n",
    "from scipy.sparse import coo_matrix\n",
    "from sklearn import preprocessing"
   ]
  },
  {
   "cell_type": "code",
   "execution_count": 24,
   "id": "df18a63c-8c51-4db6-a0be-a9f60153da6d",
   "metadata": {},
   "outputs": [
    {
     "data": {
      "text/html": [
       "<div>\n",
       "<style scoped>\n",
       "    .dataframe tbody tr th:only-of-type {\n",
       "        vertical-align: middle;\n",
       "    }\n",
       "\n",
       "    .dataframe tbody tr th {\n",
       "        vertical-align: top;\n",
       "    }\n",
       "\n",
       "    .dataframe thead th {\n",
       "        text-align: right;\n",
       "    }\n",
       "</style>\n",
       "<table border=\"1\" class=\"dataframe\">\n",
       "  <thead>\n",
       "    <tr style=\"text-align: right;\">\n",
       "      <th></th>\n",
       "      <th>visitorid</th>\n",
       "      <th>itemid</th>\n",
       "      <th>event</th>\n",
       "      <th>date</th>\n",
       "    </tr>\n",
       "  </thead>\n",
       "  <tbody>\n",
       "    <tr>\n",
       "      <th>0</th>\n",
       "      <td>910284</td>\n",
       "      <td>331446</td>\n",
       "      <td>view</td>\n",
       "      <td>2015-05-03</td>\n",
       "    </tr>\n",
       "    <tr>\n",
       "      <th>1</th>\n",
       "      <td>1324815</td>\n",
       "      <td>292237</td>\n",
       "      <td>view</td>\n",
       "      <td>2015-05-03</td>\n",
       "    </tr>\n",
       "    <tr>\n",
       "      <th>2</th>\n",
       "      <td>398588</td>\n",
       "      <td>269842</td>\n",
       "      <td>view</td>\n",
       "      <td>2015-05-03</td>\n",
       "    </tr>\n",
       "    <tr>\n",
       "      <th>3</th>\n",
       "      <td>139680</td>\n",
       "      <td>465621</td>\n",
       "      <td>addtocart</td>\n",
       "      <td>2015-05-03</td>\n",
       "    </tr>\n",
       "    <tr>\n",
       "      <th>4</th>\n",
       "      <td>108814</td>\n",
       "      <td>247909</td>\n",
       "      <td>view</td>\n",
       "      <td>2015-05-03</td>\n",
       "    </tr>\n",
       "  </tbody>\n",
       "</table>\n",
       "</div>"
      ],
      "text/plain": [
       "   visitorid  itemid      event        date\n",
       "0     910284  331446       view  2015-05-03\n",
       "1    1324815  292237       view  2015-05-03\n",
       "2     398588  269842       view  2015-05-03\n",
       "3     139680  465621  addtocart  2015-05-03\n",
       "4     108814  247909       view  2015-05-03"
      ]
     },
     "execution_count": 24,
     "metadata": {},
     "output_type": "execute_result"
    }
   ],
   "source": [
    "events_df = events_df.assign(date=pd.Series(datetime.datetime.fromtimestamp(i/1000).date() for i in events_df.timestamp))\n",
    "events_df = events_df.sort_values('date').reset_index(drop=True)\n",
    "events_df = events_df[['visitorid','itemid','event', 'date']]\n",
    "events_df.head()"
   ]
  },
  {
   "cell_type": "code",
   "execution_count": 25,
   "id": "bec1bde7-a040-403f-88d4-bdc33f2a3777",
   "metadata": {},
   "outputs": [],
   "source": [
    "start_date = '2015-5-3'\n",
    "end_date = '2015-5-18'\n",
    "fd = lambda x: datetime.datetime.strptime(x, '%Y-%m-%d').date()\n",
    "events_df = events_df[(events_df.date >= fd(start_date)) & (events_df.date <= fd(end_date))]"
   ]
  },
  {
   "cell_type": "code",
   "execution_count": 26,
   "id": "b0090b7d-f47f-497b-b2a6-d90fad944b8a",
   "metadata": {},
   "outputs": [],
   "source": [
    "split_point = int(np.round(events_df.shape[0]*0.8))\n",
    "events_train = events_df.iloc[0:split_point]\n",
    "events_test = events_df.iloc[split_point::]\n",
    "events_test = events_test[(events_test['visitorid'].isin(events_train['visitorid'])) & (events_test['itemid'].isin(events_train['itemid']))]"
   ]
  },
  {
   "cell_type": "code",
   "execution_count": 27,
   "id": "bd0e0740-55c1-42b3-b291-7798989eb354",
   "metadata": {},
   "outputs": [],
   "source": [
    "id_cols = ['visitorid','itemid']\n",
    "trans_cat_train = dict()\n",
    "trans_cat_test = dict()\n",
    "\n",
    "for k in id_cols:\n",
    "    cate_enc = preprocessing.LabelEncoder()\n",
    "    trans_cat_train[k] = cate_enc.fit_transform(events_train[k].values)\n",
    "    trans_cat_test[k] = cate_enc.transform(events_test[k].values)"
   ]
  },
  {
   "cell_type": "code",
   "execution_count": 28,
   "id": "38a6cec9-d606-4439-b09c-98a38c8644aa",
   "metadata": {},
   "outputs": [],
   "source": [
    "ratings = dict()\n",
    "\n",
    "cate_enc = preprocessing.LabelEncoder()\n",
    "ratings['train'] = cate_enc.fit_transform(events_train.event)\n",
    "ratings['test'] = cate_enc.transform(events_test.event)"
   ]
  },
  {
   "cell_type": "code",
   "execution_count": 29,
   "id": "9179fa81-df46-4ee1-8acf-8d4579d2559e",
   "metadata": {},
   "outputs": [],
   "source": [
    "n_users = len(np.unique(trans_cat_train['visitorid']))\n",
    "n_items = len(np.unique(trans_cat_train['itemid']))"
   ]
  },
  {
   "cell_type": "code",
   "execution_count": 30,
   "id": "b74017a9-2acf-494d-b9d9-fa5058261789",
   "metadata": {},
   "outputs": [],
   "source": [
    "rate_matrix = dict()\n",
    "rate_matrix['train'] = coo_matrix((ratings['train'], \n",
    "                                   (trans_cat_train['visitorid'], \n",
    "                                    trans_cat_train['itemid'])), \n",
    "                                  shape=(n_users,n_items))\n",
    "rate_matrix['test'] = coo_matrix((ratings['test'], \n",
    "                                  (trans_cat_test['visitorid'], \n",
    "                                   trans_cat_test['itemid'])), \n",
    "                                 shape=(n_users,n_items))"
   ]
  },
  {
   "cell_type": "code",
   "execution_count": 31,
   "id": "6c631382-966c-48ec-84ff-599a85f8b41d",
   "metadata": {},
   "outputs": [
    {
     "data": {
      "text/plain": [
       "<lightfm.lightfm.LightFM at 0x2a27a23c450>"
      ]
     },
     "execution_count": 31,
     "metadata": {},
     "output_type": "execute_result"
    }
   ],
   "source": [
    "model = LightFM(no_components = 10, loss = 'warp')\n",
    "model.fit(rate_matrix['train'], epochs = 100, num_threads = 1)"
   ]
  },
  {
   "cell_type": "markdown",
   "id": "aeb8ac39-bf00-4b58-aebf-aa3e043a2dc2",
   "metadata": {},
   "source": [
    "### 3.2.3 算法评估和检验"
   ]
  },
  {
   "cell_type": "markdown",
   "id": "93d74d97-fd60-4066-8403-e75e96be3be6",
   "metadata": {},
   "source": [
    "#### 算法评估"
   ]
  },
  {
   "cell_type": "code",
   "execution_count": 32,
   "id": "c6b8f9b8-63d6-48ce-a00d-ce6d528bcab1",
   "metadata": {},
   "outputs": [
    {
     "data": {
      "text/plain": [
       "0.998509"
      ]
     },
     "execution_count": 32,
     "metadata": {},
     "output_type": "execute_result"
    }
   ],
   "source": [
    "auc_score(model, rate_matrix['train'], num_threads = 1).mean()"
   ]
  },
  {
   "cell_type": "code",
   "execution_count": 33,
   "id": "6843f1d4-4460-49de-ac88-230782d98273",
   "metadata": {},
   "outputs": [
    {
     "data": {
      "text/plain": [
       "0.82797575"
      ]
     },
     "execution_count": 33,
     "metadata": {},
     "output_type": "execute_result"
    }
   ],
   "source": [
    "auc_score(model, rate_matrix['test'], num_threads = 1).mean()"
   ]
  },
  {
   "cell_type": "markdown",
   "id": "e0520315-b1e1-4f33-801f-2e35535fe0bc",
   "metadata": {},
   "source": [
    "#### 算法检验"
   ]
  },
  {
   "cell_type": "code",
   "execution_count": 210,
   "id": "f2f42759-b305-4d08-b051-0664a76180b8",
   "metadata": {},
   "outputs": [],
   "source": [
    "n_recommendations = 5\n",
    "random_users = np.random.choice(rate_matrix['test'].row, size=n_recommendations, replace=False)"
   ]
  },
  {
   "cell_type": "code",
   "execution_count": 217,
   "id": "98579407-25fa-42be-8e28-93ff99025c8b",
   "metadata": {},
   "outputs": [],
   "source": [
    "def sample_recommendation(model, data, user_ids, n_items):\n",
    "    results = {}\n",
    "\n",
    "    for user_id in user_ids:\n",
    "        known_positives = events_df[events_df['visitorid'] == user_id]['itemid'].values\n",
    "        scores = model.predict(np.full(n_items, user_id, dtype=np.int32), np.arange(n_items))\n",
    "        top_items = np.argsort(-scores)\n",
    "\n",
    "        print(f\"User {user_id}\")\n",
    "        print(\" Known positives:\")\n",
    "        for x in known_positives[:3]:\n",
    "            print(f\" {x}\")\n",
    "\n",
    "        print(\" Recommended:\")\n",
    "        recommendations = []\n",
    "        for x in top_items[:3]:\n",
    "            print(f\" {x} with score {scores[x]}\")\n",
    "            recommendations.append((x, scores[x]))\n",
    "\n",
    "        results[user_id] = {\n",
    "            'known_positives': known_positives,\n",
    "            'recommendations': recommendations\n",
    "        }\n",
    "\n",
    "    return results"
   ]
  },
  {
   "cell_type": "code",
   "execution_count": 218,
   "id": "9b16f577-07aa-4884-bf35-86f1824ba126",
   "metadata": {},
   "outputs": [
    {
     "name": "stdout",
     "output_type": "stream",
     "text": [
      "User 29626\n",
      " Known positives:\n",
      " Recommended:\n",
      " 67531 with score 1.9106998443603516\n",
      " 6117 with score 1.7165738344192505\n",
      " 35257 with score 1.7041709423065186\n",
      "User 37825\n",
      " Known positives:\n",
      " 80402\n",
      " Recommended:\n",
      " 37351 with score 1.9044865369796753\n",
      " 65916 with score 1.8094706535339355\n",
      " 45792 with score 1.7193636894226074\n",
      "User 106611\n",
      " Known positives:\n",
      " Recommended:\n",
      " 62277 with score 2.531468391418457\n",
      " 45370 with score 2.4186222553253174\n",
      " 53714 with score 2.340581178665161\n",
      "User 103684\n",
      " Known positives:\n",
      " Recommended:\n",
      " 54746 with score 2.6300697326660156\n",
      " 7386 with score 2.405660629272461\n",
      " 22798 with score 2.256413459777832\n",
      "User 62406\n",
      " Known positives:\n",
      " 198784\n",
      " 188069\n",
      " 328486\n",
      " Recommended:\n",
      " 53368 with score 2.226672410964966\n",
      " 812 with score 2.2056212425231934\n",
      " 41601 with score 2.094320774078369\n"
     ]
    },
    {
     "data": {
      "text/plain": [
       "{29626: {'known_positives': array([], dtype=int64),\n",
       "  'recommendations': [(67531, 1.9106998),\n",
       "   (6117, 1.7165738),\n",
       "   (35257, 1.704171)]},\n",
       " 37825: {'known_positives': array([80402], dtype=int64),\n",
       "  'recommendations': [(37351, 1.9044865),\n",
       "   (65916, 1.8094707),\n",
       "   (45792, 1.7193637)]},\n",
       " 106611: {'known_positives': array([], dtype=int64),\n",
       "  'recommendations': [(62277, 2.5314684),\n",
       "   (45370, 2.4186223),\n",
       "   (53714, 2.3405812)]},\n",
       " 103684: {'known_positives': array([], dtype=int64),\n",
       "  'recommendations': [(54746, 2.6300697),\n",
       "   (7386, 2.4056606),\n",
       "   (22798, 2.2564135)]},\n",
       " 62406: {'known_positives': array([198784, 188069, 328486,  88305], dtype=int64),\n",
       "  'recommendations': [(53368, 2.2266724),\n",
       "   (812, 2.2056212),\n",
       "   (41601, 2.0943208)]}}"
      ]
     },
     "execution_count": 218,
     "metadata": {},
     "output_type": "execute_result"
    }
   ],
   "source": [
    "sample_recommendation(model, rate_matrix['test'], random_users, n_items)"
   ]
  },
  {
   "cell_type": "code",
   "execution_count": 219,
   "id": "a1556355-07c5-4862-8361-b6ef3968b6e6",
   "metadata": {},
   "outputs": [
    {
     "name": "stdout",
     "output_type": "stream",
     "text": [
      "Empty DataFrame\n",
      "Columns: [visitorid, itemid, event, date]\n",
      "Index: []\n",
      "       visitorid  itemid event        date\n",
      "81820      37825   80402  view  2015-05-07\n",
      "Empty DataFrame\n",
      "Columns: [visitorid, itemid, event, date]\n",
      "Index: []\n",
      "Empty DataFrame\n",
      "Columns: [visitorid, itemid, event, date]\n",
      "Index: []\n",
      "        visitorid  itemid event        date\n",
      "258542      62406  198784  view  2015-05-16\n",
      "260868      62406  188069  view  2015-05-16\n",
      "264801      62406  328486  view  2015-05-16\n",
      "265218      62406   88305  view  2015-05-16\n"
     ]
    }
   ],
   "source": [
    "for user_id in random_users:\n",
    "    print(events_df[events_df['visitorid'] == user_id])"
   ]
  },
  {
   "cell_type": "markdown",
   "id": "fb649b7c-5adb-4740-8d4c-c5c63a1a0b8d",
   "metadata": {},
   "source": [
    "### 3.2.4 可视化展示"
   ]
  },
  {
   "cell_type": "code",
   "execution_count": 220,
   "id": "9a736da0-b6f4-41b9-8958-0fae41eaaf90",
   "metadata": {},
   "outputs": [
    {
     "data": {
      "image/png": "[encoded data removed]",
      "text/plain": [
       "<Figure size 800x600 with 1 Axes>"
      ]
     },
     "metadata": {},
     "output_type": "display_data"
    }
   ],
   "source": [
    "auc_scores = {'Training Set': 0.998509, 'Testing Set': 0.82797575}\n",
    "\n",
    "thresholds = {\n",
    "    'Outstanding': 0.9,\n",
    "    'Good': 0.8,\n",
    "    'Fair': 0.7,\n",
    "    'Poor': 0.6,\n",
    "    'Fail': 0.5\n",
    "}\n",
    "\n",
    "labels = list(auc_scores.keys())\n",
    "values = list(auc_scores.values())\n",
    "\n",
    "palette = sns.color_palette(\"vlag\")\n",
    "vlag_blue, vlag_red = palette.as_hex()[:2]\n",
    "plt.figure(figsize=[8,6])\n",
    "bars = plt.bar(labels, values, color=[vlag_blue, vlag_red])\n",
    "\n",
    "plt.ylim(0, 1.1)\n",
    "\n",
    "for bar, value in zip(bars, values):\n",
    "    plt.text(bar.get_x() + bar.get_width() / 2, value - 0.05, f'{value:.5f}', ha='center', color='white', fontweight='bold')\n",
    "\n",
    "for name, score in thresholds.items():\n",
    "    plt.axhline(y=score, color='gray', linestyle='--', linewidth=1)\n",
    "    plt.text(len(auc_scores) - 1, score + 0.02, f'{name} (> {score})', va='center', color='black', fontsize=10)\n",
    "\n",
    "plt.ylabel('AUC Score')\n",
    "plt.title('AUC Scores for Training and Testing Sets')\n",
    "plt.show()"
   ]
  },
  {
   "cell_type": "code",
   "execution_count": 231,
   "id": "19600cf6-4ca0-4534-819e-60a4ed586004",
   "metadata": {},
   "outputs": [],
   "source": [
    "def visualize_recommendations(results):\n",
    "    data = {\n",
    "        'User': [],\n",
    "        'Item': [],\n",
    "        'Score': [],\n",
    "        'Type': [],\n",
    "        'Known Positives': []\n",
    "    }\n",
    "\n",
    "    for user_id, user_data in results.items():\n",
    "        known_positives = user_data['known_positives']\n",
    "        recommendations = user_data['recommendations']\n",
    "\n",
    "        if not np.all(known_positives == '-'):\n",
    "            for item_id in known_positives:\n",
    "                if item_id != '-':\n",
    "                    data['User'].append(str(user_id))\n",
    "                    data['Item'].append(str(item_id))\n",
    "                    data['Score'].append('-')\n",
    "                    data['Type'].append('Known Positive')\n",
    "                    data['Known Positives'].append(str(item_id))\n",
    "                    \n",
    "        for item_id, score in recommendations:\n",
    "            data['User'].append(str(user_id))\n",
    "            data['Item'].append(str(item_id))\n",
    "            data['Score'].append(score)\n",
    "            data['Type'].append('Recommended')\n",
    "            data['Known Positives'].append('-')\n",
    "\n",
    "    df = pd.DataFrame(data)\n",
    "    df['Score'] = df['Score'].replace('-', np.nan).astype(float)\n",
    "\n",
    "    plt.figure(figsize=(8, 6))\n",
    "    sns.barplot(x='User', y='Score', hue='Type', data=df, palette='pastel')\n",
    "    plt.title('Recommended Items and Known Positives per User')\n",
    "    plt.xlabel('User ID')\n",
    "    plt.ylabel('Score/Presence')\n",
    "    plt.legend(loc='upper right')\n",
    "    plt.show()"
   ]
  },
  {
   "cell_type": "code",
   "execution_count": 232,
   "id": "a313b586-614b-4fda-8ae6-6de3710e57a0",
   "metadata": {},
   "outputs": [
    {
     "name": "stdout",
     "output_type": "stream",
     "text": [
      "User 29626\n",
      " Known positives:\n",
      " Recommended:\n",
      " 67531 with score 1.9106998443603516\n",
      " 6117 with score 1.7165738344192505\n",
      " 35257 with score 1.7041709423065186\n",
      "User 37825\n",
      " Known positives:\n",
      " 80402\n",
      " Recommended:\n",
      " 37351 with score 1.9044865369796753\n",
      " 65916 with score 1.8094706535339355\n",
      " 45792 with score 1.7193636894226074\n",
      "User 106611\n",
      " Known positives:\n",
      " Recommended:\n",
      " 62277 with score 2.531468391418457\n",
      " 45370 with score 2.4186222553253174\n",
      " 53714 with score 2.340581178665161\n",
      "User 103684\n",
      " Known positives:\n",
      " Recommended:\n",
      " 54746 with score 2.6300697326660156\n",
      " 7386 with score 2.405660629272461\n",
      " 22798 with score 2.256413459777832\n",
      "User 62406\n",
      " Known positives:\n",
      " 198784\n",
      " 188069\n",
      " 328486\n",
      " Recommended:\n",
      " 53368 with score 2.226672410964966\n",
      " 812 with score 2.2056212425231934\n",
      " 41601 with score 2.094320774078369\n"
     ]
    },
    {
     "name": "stderr",
     "output_type": "stream",
     "text": [
      "C:\\Users\\czxip\\AppData\\Local\\Temp\\ipykernel_8756\\3986153150.py:31: FutureWarning: Downcasting behavior in `replace` is deprecated and will be removed in a future version. To retain the old behavior, explicitly call `result.infer_objects(copy=False)`. To opt-in to the future behavior, set `pd.set_option('future.no_silent_downcasting', True)`\n",
      "  df['Score'] = df['Score'].replace('-', np.nan).astype(float)\n",
      "D:\\anaconda3\\envs\\pandas_learning\\Lib\\site-packages\\seaborn\\algorithms.py:98: RuntimeWarning: Mean of empty slice\n",
      "  boot_dist.append(f(*sample, **func_kwargs))\n",
      "D:\\anaconda3\\envs\\pandas_learning\\Lib\\site-packages\\numpy\\lib\\nanfunctions.py:1384: RuntimeWarning: All-NaN slice encountered\n",
      "  return _nanquantile_unchecked(\n"
     ]
    },
    {
     "data": {
      "image/png": "[encoded data removed]",
      "text/plain": [
       "<Figure size 800x600 with 1 Axes>"
      ]
     },
     "metadata": {},
     "output_type": "display_data"
    }
   ],
   "source": [
    "visualize_recommendations(sample_recommendation(model, rate_matrix['test'], random_users, n_items))"
   ]
  },
  {
   "cell_type": "code",
   "execution_count": null,
   "id": "b26a5c5e-7549-4afc-bae7-4f971a2978e6",
   "metadata": {},
   "outputs": [],
   "source": []
  }
 ],
 "metadata": {
  "kernelspec": {
   "display_name": "Python 3 (ipykernel)",
   "language": "python",
   "name": "python3"
  },
  "language_info": {
   "codemirror_mode": {
    "name": "ipython",
    "version": 3
   },
   "file_extension": ".py",
   "mimetype": "text/x-python",
   "name": "python",
   "nbconvert_exporter": "python",
   "pygments_lexer": "ipython3",
   "version": "3.11.0"
  }
 },
 "nbformat": 4,
 "nbformat_minor": 5
}
